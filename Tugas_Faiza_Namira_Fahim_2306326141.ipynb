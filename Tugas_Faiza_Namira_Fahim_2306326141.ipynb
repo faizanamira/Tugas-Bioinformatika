{
  "nbformat": 4,
  "nbformat_minor": 0,
  "metadata": {
    "colab": {
      "provenance": []
    },
    "kernelspec": {
      "name": "python3",
      "display_name": "Python 3"
    },
    "language_info": {
      "name": "python"
    }
  },
  "cells": [
    {
      "cell_type": "code",
      "source": [
        "!pip install biopython"
      ],
      "metadata": {
        "colab": {
          "base_uri": "https://localhost:8080/"
        },
        "id": "uebiK6r2P3JV",
        "outputId": "fd203d8c-98e5-462c-a264-0437630f7010"
      },
      "execution_count": 1,
      "outputs": [
        {
          "output_type": "stream",
          "name": "stdout",
          "text": [
            "Collecting biopython\n",
            "  Downloading biopython-1.83-cp310-cp310-manylinux_2_17_x86_64.manylinux2014_x86_64.whl (3.1 MB)\n",
            "\u001b[2K     \u001b[90m━━━━━━━━━━━━━━━━━━━━━━━━━━━━━━━━━━━━━━━━\u001b[0m \u001b[32m3.1/3.1 MB\u001b[0m \u001b[31m10.0 MB/s\u001b[0m eta \u001b[36m0:00:00\u001b[0m\n",
            "\u001b[?25hRequirement already satisfied: numpy in /usr/local/lib/python3.10/dist-packages (from biopython) (1.25.2)\n",
            "Installing collected packages: biopython\n",
            "Successfully installed biopython-1.83\n"
          ]
        }
      ]
    },
    {
      "cell_type": "code",
      "source": [
        "from Bio.Blast import NCBIWWW\n",
        "from Bio import SeqIO"
      ],
      "metadata": {
        "id": "9OBTycfaSirB"
      },
      "execution_count": 5,
      "outputs": []
    },
    {
      "cell_type": "code",
      "source": [
        "fasta_file = \"p16.fasta\"\n",
        "database = \"nt\"\n",
        "program = \"blastn\""
      ],
      "metadata": {
        "id": "AlZoy_30TVgS"
      },
      "execution_count": 53,
      "outputs": []
    },
    {
      "cell_type": "code",
      "source": [
        "with open(fasta_file, \"r\") as handle:\n",
        "    query_seq = SeqIO.read(handle, \"fasta\")"
      ],
      "metadata": {
        "id": "rY14BdriTa2o"
      },
      "execution_count": 54,
      "outputs": []
    },
    {
      "cell_type": "code",
      "source": [
        "!pip show biopython"
      ],
      "metadata": {
        "colab": {
          "base_uri": "https://localhost:8080/"
        },
        "id": "QP8Fs5teUqF3",
        "outputId": "64e79a2d-b8bd-4c23-d9d2-6c05dce9a59f"
      },
      "execution_count": 55,
      "outputs": [
        {
          "output_type": "stream",
          "name": "stdout",
          "text": [
            "Name: biopython\n",
            "Version: 1.83\n",
            "Summary: Freely available tools for computational molecular biology.\n",
            "Home-page: https://biopython.org/\n",
            "Author: The Biopython Contributors\n",
            "Author-email: biopython@biopython.org\n",
            "License: \n",
            "Location: /usr/local/lib/python3.10/dist-packages\n",
            "Requires: numpy\n",
            "Required-by: \n"
          ]
        }
      ]
    },
    {
      "cell_type": "code",
      "source": [
        "from Bio.Blast import NCBIWWW\n",
        "from Bio import SeqIO"
      ],
      "metadata": {
        "id": "WgD1avTKU68R"
      },
      "execution_count": 57,
      "outputs": []
    },
    {
      "cell_type": "code",
      "source": [
        "from Bio import __version__\n",
        "\n",
        "print(f\"Biopython version: {__version__}\")\n",
        "\n",
        "try:\n",
        "    from Bio.Blast import blastn\n",
        "except ImportError:\n",
        "    print(\"blastn module is not installed.\")"
      ],
      "metadata": {
        "colab": {
          "base_uri": "https://localhost:8080/"
        },
        "id": "Nz5h2GR4V3Cx",
        "outputId": "7e160c41-5d0c-4d52-9802-461e451b067d"
      },
      "execution_count": 58,
      "outputs": [
        {
          "output_type": "stream",
          "name": "stdout",
          "text": [
            "Biopython version: 1.83\n",
            "blastn module is not installed.\n"
          ]
        }
      ]
    },
    {
      "cell_type": "code",
      "source": [
        "with open(fasta_file, \"r\") as handle:\n",
        "    query_seq = SeqIO.read(handle, \"fasta\")"
      ],
      "metadata": {
        "id": "JrbUD_mRZyVl"
      },
      "execution_count": 59,
      "outputs": []
    },
    {
      "cell_type": "code",
      "source": [
        "url_base='http://host.my.cloud.service.provider.com/cgi-bin/blast.cgi'"
      ],
      "metadata": {
        "id": "XvfGH1WPa4Xg"
      },
      "execution_count": 61,
      "outputs": []
    },
    {
      "cell_type": "code",
      "source": [
        "format_object='Alignment'"
      ],
      "metadata": {
        "id": "wI9ULwnya80b"
      },
      "execution_count": 62,
      "outputs": []
    },
    {
      "cell_type": "code",
      "source": [
        "blast_results = NCBIWWW.qblast"
      ],
      "metadata": {
        "id": "jTTucHJ0hnYi"
      },
      "execution_count": 70,
      "outputs": []
    },
    {
      "cell_type": "code",
      "source": [
        "with open(\"blast_output.txt\", \"w\") as out_handle:\n",
        "    out_handle.write(blast_results)"
      ],
      "metadata": {
        "colab": {
          "base_uri": "https://localhost:8080/",
          "height": 158
        },
        "id": "bmwmqUb3ikXq",
        "outputId": "402e5105-4f96-4d94-926b-5669d21b8d56"
      },
      "execution_count": 71,
      "outputs": [
        {
          "output_type": "error",
          "ename": "TypeError",
          "evalue": "write() argument must be str, not function",
          "traceback": [
            "\u001b[0;31m---------------------------------------------------------------------------\u001b[0m",
            "\u001b[0;31mTypeError\u001b[0m                                 Traceback (most recent call last)",
            "\u001b[0;32m<ipython-input-71-dddc1be837f3>\u001b[0m in \u001b[0;36m<cell line: 1>\u001b[0;34m()\u001b[0m\n\u001b[1;32m      1\u001b[0m \u001b[0;32mwith\u001b[0m \u001b[0mopen\u001b[0m\u001b[0;34m(\u001b[0m\u001b[0;34m\"blast_output.txt\"\u001b[0m\u001b[0;34m,\u001b[0m \u001b[0;34m\"w\"\u001b[0m\u001b[0;34m)\u001b[0m \u001b[0;32mas\u001b[0m \u001b[0mout_handle\u001b[0m\u001b[0;34m:\u001b[0m\u001b[0;34m\u001b[0m\u001b[0;34m\u001b[0m\u001b[0m\n\u001b[0;32m----> 2\u001b[0;31m     \u001b[0mout_handle\u001b[0m\u001b[0;34m.\u001b[0m\u001b[0mwrite\u001b[0m\u001b[0;34m(\u001b[0m\u001b[0mblast_results\u001b[0m\u001b[0;34m)\u001b[0m\u001b[0;34m\u001b[0m\u001b[0;34m\u001b[0m\u001b[0m\n\u001b[0m",
            "\u001b[0;31mTypeError\u001b[0m: write() argument must be str, not function"
          ]
        }
      ]
    },
    {
      "cell_type": "code",
      "source": [
        "blast_results = NCBIWWW.qblast(\"blastn\", \"nr\", query_seq.format(\"fasta\"))\n",
        "blast_results = blast_results.read()"
      ],
      "metadata": {
        "id": "ZSsWyr-pi3qD"
      },
      "execution_count": 76,
      "outputs": []
    },
    {
      "cell_type": "code",
      "source": [
        "with open(\"blast_output.txt\", \"w\") as out_handle:\n",
        "    out_handle.write(blast_results)"
      ],
      "metadata": {
        "id": "iDHSVYCpjCHQ"
      },
      "execution_count": 77,
      "outputs": []
    },
    {
      "cell_type": "code",
      "source": [
        "print(blast_results)"
      ],
      "metadata": {
        "colab": {
          "base_uri": "https://localhost:8080/"
        },
        "id": "c3SxwR0VjrM9",
        "outputId": "13067624-d1a1-4de4-f9eb-cde515d411d1"
      },
      "execution_count": 78,
      "outputs": [
        {
          "output_type": "stream",
          "name": "stdout",
          "text": [
            "<?xml version=\"1.0\"?>\n",
            "<!DOCTYPE BlastOutput PUBLIC \"-//NCBI//NCBI BlastOutput/EN\" \"http://www.ncbi.nlm.nih.gov/dtd/NCBI_BlastOutput.dtd\">\n",
            "<BlastOutput>\n",
            "  <BlastOutput_program>blastn</BlastOutput_program>\n",
            "  <BlastOutput_version>BLASTN 2.15.0+</BlastOutput_version>\n",
            "  <BlastOutput_reference>Stephen F. Altschul, Thomas L. Madden, Alejandro A. Sch&amp;auml;ffer, Jinghui Zhang, Zheng Zhang, Webb Miller, and David J. Lipman (1997), &quot;Gapped BLAST and PSI-BLAST: a new generation of protein database search programs&quot;, Nucleic Acids Res. 25:3389-3402.</BlastOutput_reference>\n",
            "  <BlastOutput_db>nr</BlastOutput_db>\n",
            "  <BlastOutput_query-ID>Query_1759905</BlastOutput_query-ID>\n",
            "  <BlastOutput_query-def>DQ406745.1 Homo sapiens p16 (CDKN2A) gene, promoter region and partial cds</BlastOutput_query-def>\n",
            "  <BlastOutput_query-len>2201</BlastOutput_query-len>\n",
            "  <BlastOutput_param>\n",
            "    <Parameters>\n",
            "      <Parameters_expect>10</Parameters_expect>\n",
            "      <Parameters_sc-match>2</Parameters_sc-match>\n",
            "      <Parameters_sc-mismatch>-3</Parameters_sc-mismatch>\n",
            "      <Parameters_gap-open>5</Parameters_gap-open>\n",
            "      <Parameters_gap-extend>2</Parameters_gap-extend>\n",
            "      <Parameters_filter>L;m;</Parameters_filter>\n",
            "    </Parameters>\n",
            "  </BlastOutput_param>\n",
            "<BlastOutput_iterations>\n",
            "<Iteration>\n",
            "  <Iteration_iter-num>1</Iteration_iter-num>\n",
            "  <Iteration_query-ID>Query_1759905</Iteration_query-ID>\n",
            "  <Iteration_query-def>DQ406745.1 Homo sapiens p16 (CDKN2A) gene, promoter region and partial cds</Iteration_query-def>\n",
            "  <Iteration_query-len>2201</Iteration_query-len>\n",
            "<Iteration_hits>\n",
            "</Iteration_hits>\n",
            "  <Iteration_stat>\n",
            "    <Statistics>\n",
            "      <Statistics_db-num>106213852</Statistics_db-num>\n",
            "      <Statistics_db-len>1672590756</Statistics_db-len>\n",
            "      <Statistics_hsp-len>0</Statistics_hsp-len>\n",
            "      <Statistics_eff-space>0</Statistics_eff-space>\n",
            "      <Statistics_kappa>0.41</Statistics_kappa>\n",
            "      <Statistics_lambda>0.625</Statistics_lambda>\n",
            "      <Statistics_entropy>0.78</Statistics_entropy>\n",
            "    </Statistics>\n",
            "  </Iteration_stat>\n",
            "  <Iteration_message>[blastsrv4.REAL]: Error: CPU usage limit was exceeded, resulting in SIGXCPU (24).</Iteration_message>\n",
            "</Iteration>\n",
            "</BlastOutput_iterations>\n",
            "</BlastOutput>\n",
            "\n"
          ]
        }
      ]
    }
  ]
}